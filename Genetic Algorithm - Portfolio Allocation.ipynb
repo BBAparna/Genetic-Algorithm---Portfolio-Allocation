{
 "cells": [
  {
   "cell_type": "code",
   "execution_count": 1,
   "metadata": {
    "collapsed": true
   },
   "outputs": [],
   "source": [
    "import os\n",
    "import pandas as pd\n",
    "import numpy as np"
   ]
  },
  {
   "cell_type": "code",
   "execution_count": 2,
   "metadata": {
    "collapsed": true
   },
   "outputs": [],
   "source": [
    "os.chdir('/home/harshit/Documents/Academics/Lab Material/Batch 43/stocks')"
   ]
  },
  {
   "cell_type": "markdown",
   "metadata": {},
   "source": [
    "### Calculate stock returns from closing value of each stock for every month"
   ]
  },
  {
   "cell_type": "markdown",
   "metadata": {},
   "source": [
    "##### Define function to obtain .csv filenames"
   ]
  },
  {
   "cell_type": "code",
   "execution_count": 3,
   "metadata": {
    "collapsed": true
   },
   "outputs": [],
   "source": [
    "def obtain_filenames(path):\n",
    "    name = []\n",
    "#     This loop will search all the files in given path and selects file names which end with .csv\n",
    "    for file in os.listdir(path):\n",
    "        if file.endswith('.csv'):\n",
    "            name.append(file.split(sep='.')[0])\n",
    "#     name contains list of file names\n",
    "    return name"
   ]
  },
  {
   "cell_type": "markdown",
   "metadata": {},
   "source": [
    "##### Define function to calculate returns for each stock"
   ]
  },
  {
   "cell_type": "code",
   "execution_count": 4,
   "metadata": {
    "collapsed": true
   },
   "outputs": [],
   "source": [
    "def calculate_returns(scrip,l_o_m):\n",
    "    stck_name_returns = {}\n",
    "    for stck in scrip:\n",
    "#         Read each stock data\n",
    "        stck_data = pd.read_csv(stck + '.csv',header=0,sep=',')\n",
    "        returns = []\n",
    "#         Calculate returns for each stock according to list_of_months and append to stck_name_returns dictionary\n",
    "        for i in l_o_m:\n",
    "            present_close = stck_data.loc[0,'Close']\n",
    "            last_close = stck_data.loc[0 + i,'Close']\n",
    "            returns.append((present_close - last_close)/last_close)\n",
    "        stck_name_returns[stck] = returns\n",
    "    return stck_name_returns"
   ]
  },
  {
   "cell_type": "code",
   "execution_count": 5,
   "metadata": {},
   "outputs": [
    {
     "data": {
      "text/plain": [
       "['m&m', 'hdfc', 'itc', 'l&t', 'sunpha', 'tcs']"
      ]
     },
     "execution_count": 5,
     "metadata": {},
     "output_type": "execute_result"
    }
   ],
   "source": [
    "scrip_names = obtain_filenames(os.getcwd())\n",
    "scrip_names"
   ]
  },
  {
   "cell_type": "code",
   "execution_count": 6,
   "metadata": {
    "collapsed": true
   },
   "outputs": [],
   "source": [
    "list_of_months = [3,6,12,18,24,36]"
   ]
  },
  {
   "cell_type": "code",
   "execution_count": 7,
   "metadata": {},
   "outputs": [
    {
     "data": {
      "text/html": [
       "<div>\n",
       "<style>\n",
       "    .dataframe thead tr:only-child th {\n",
       "        text-align: right;\n",
       "    }\n",
       "\n",
       "    .dataframe thead th {\n",
       "        text-align: left;\n",
       "    }\n",
       "\n",
       "    .dataframe tbody tr th {\n",
       "        vertical-align: top;\n",
       "    }\n",
       "</style>\n",
       "<table border=\"1\" class=\"dataframe\">\n",
       "  <thead>\n",
       "    <tr style=\"text-align: right;\">\n",
       "      <th></th>\n",
       "      <th>hdfc</th>\n",
       "      <th>itc</th>\n",
       "      <th>l&amp;t</th>\n",
       "      <th>m&amp;m</th>\n",
       "      <th>sunpha</th>\n",
       "      <th>tcs</th>\n",
       "    </tr>\n",
       "  </thead>\n",
       "  <tbody>\n",
       "    <tr>\n",
       "      <th>3month</th>\n",
       "      <td>0.114515</td>\n",
       "      <td>0.039664</td>\n",
       "      <td>-0.030947</td>\n",
       "      <td>0.211564</td>\n",
       "      <td>0.131510</td>\n",
       "      <td>0.074459</td>\n",
       "    </tr>\n",
       "    <tr>\n",
       "      <th>6month</th>\n",
       "      <td>0.125163</td>\n",
       "      <td>0.011212</td>\n",
       "      <td>0.011417</td>\n",
       "      <td>0.194062</td>\n",
       "      <td>-0.017957</td>\n",
       "      <td>0.040129</td>\n",
       "    </tr>\n",
       "    <tr>\n",
       "      <th>12month</th>\n",
       "      <td>0.275866</td>\n",
       "      <td>-0.178478</td>\n",
       "      <td>0.129783</td>\n",
       "      <td>0.330899</td>\n",
       "      <td>0.010911</td>\n",
       "      <td>0.145590</td>\n",
       "    </tr>\n",
       "    <tr>\n",
       "      <th>18month</th>\n",
       "      <td>0.750581</td>\n",
       "      <td>0.104171</td>\n",
       "      <td>0.413121</td>\n",
       "      <td>0.514277</td>\n",
       "      <td>-0.109885</td>\n",
       "      <td>0.330386</td>\n",
       "    </tr>\n",
       "    <tr>\n",
       "      <th>24month</th>\n",
       "      <td>0.792712</td>\n",
       "      <td>0.084237</td>\n",
       "      <td>0.274461</td>\n",
       "      <td>0.255179</td>\n",
       "      <td>-0.265911</td>\n",
       "      <td>0.311994</td>\n",
       "    </tr>\n",
       "    <tr>\n",
       "      <th>36month</th>\n",
       "      <td>0.974847</td>\n",
       "      <td>0.266844</td>\n",
       "      <td>0.069614</td>\n",
       "      <td>0.399938</td>\n",
       "      <td>-0.358785</td>\n",
       "      <td>0.275105</td>\n",
       "    </tr>\n",
       "  </tbody>\n",
       "</table>\n",
       "</div>"
      ],
      "text/plain": [
       "             hdfc       itc       l&t       m&m    sunpha       tcs\n",
       "3month   0.114515  0.039664 -0.030947  0.211564  0.131510  0.074459\n",
       "6month   0.125163  0.011212  0.011417  0.194062 -0.017957  0.040129\n",
       "12month  0.275866 -0.178478  0.129783  0.330899  0.010911  0.145590\n",
       "18month  0.750581  0.104171  0.413121  0.514277 -0.109885  0.330386\n",
       "24month  0.792712  0.084237  0.274461  0.255179 -0.265911  0.311994\n",
       "36month  0.974847  0.266844  0.069614  0.399938 -0.358785  0.275105"
      ]
     },
     "execution_count": 7,
     "metadata": {},
     "output_type": "execute_result"
    }
   ],
   "source": [
    "stck_returns = pd.DataFrame(calculate_returns(scrip_names,list_of_months),\n",
    "                            index=['3month','6month','12month','18month','24month','36month'])\n",
    "stck_returns"
   ]
  },
  {
   "cell_type": "markdown",
   "metadata": {},
   "source": [
    "### Genetic Algorithm for portfolio allocation"
   ]
  },
  {
   "cell_type": "code",
   "execution_count": 836,
   "metadata": {
    "collapsed": true
   },
   "outputs": [],
   "source": [
    "# Gene for this problem would be the percentage of amount to be allocated for a particular stock\n",
    "# Chromosome would be the percentage of amount to be allocated for each stock\n",
    "# The constraint is total amount to be invested is Rs.1,00,000/-\n",
    "# Weighted returns for each stock is calculated according to weights list, with more weight given to most recent returns"
   ]
  },
  {
   "cell_type": "markdown",
   "metadata": {},
   "source": [
    "##### Declare global variables"
   ]
  },
  {
   "cell_type": "code",
   "execution_count": 8,
   "metadata": {
    "collapsed": true
   },
   "outputs": [],
   "source": [
    "max_allocation = 100000 # maximum budget that can be allocated\n",
    "weights = [0.30,0.20,0.15,0.15,0.10,0.10] # weights for n-month returns\n",
    "mutation_probability = 0.5 # initial mutation ptobability\n",
    "number_of_iterations = 500 # total number of GA iterations\n",
    "number_of_chrom_in_population = 500 # size of population"
   ]
  },
  {
   "cell_type": "markdown",
   "metadata": {},
   "source": [
    "##### Generate initial population\n",
    "In this context, a gene is weightage of a particular scrip in the portfolio, and chromosome is a sequence of the weightages of different scrips in the porfolio. Initial population is a collection of different portfolios randomly generated."
   ]
  },
  {
   "cell_type": "code",
   "execution_count": 9,
   "metadata": {
    "collapsed": true
   },
   "outputs": [],
   "source": [
    "def gen_init_population(pop,num_stocks):\n",
    "    init_population = pd.DataFrame(columns=scrip_names)\n",
    "    for i in range(pop):\n",
    "#         For each scrip, generate a random number between 0 and 1. Normalise this sequence as sum of weightage for scrips\n",
    "#         should be equal to one. This sequence is one chromosome. Repeat it 'pop' number of times to generate population\n",
    "        random = np.random.random(num_stocks)\n",
    "        chromosome = random/(sum(random))\n",
    "        init_population.loc[i] = chromosome\n",
    "    return init_population"
   ]
  },
  {
   "cell_type": "code",
   "execution_count": 839,
   "metadata": {
    "collapsed": true
   },
   "outputs": [],
   "source": [
    "# gen_init_population(number_of_chrom_in_population,len(scrip_names)).head()\n",
    "# gen_init_population(number_of_chrom_in_population,len(scrip_names)).shape"
   ]
  },
  {
   "cell_type": "markdown",
   "metadata": {},
   "source": [
    "##### Define fitness function\n",
    "The fitness function calculates weighted return for the portfolio "
   ]
  },
  {
   "cell_type": "code",
   "execution_count": 10,
   "metadata": {
    "collapsed": true
   },
   "outputs": [],
   "source": [
    "def fitness_func(max_alloc,population,stock_ret,wts):\n",
    "#     For each scrip, calculate returns weighted by 'n-month' returns\n",
    "    weighted_stck_returns = stock_ret.apply(lambda x:(x*wts).sum())\n",
    "#     Portfolio return in % considering scrip allocation weightage. For instance, for stock 1 in a particular portfolio,\n",
    "#     if the weighted return was 5% and this stock forms 20% of the portfolio, then % return on this stock is \n",
    "#     (20000*0.05)/100000\n",
    "    pfolio_return = population.apply(lambda x: sum((x*max_alloc)*weighted_stck_returns)/max_alloc, axis = 1)\n",
    "    return pfolio_return"
   ]
  },
  {
   "cell_type": "markdown",
   "metadata": {},
   "source": [
    "##### Define selection function"
   ]
  },
  {
   "cell_type": "code",
   "execution_count": 11,
   "metadata": {
    "collapsed": true
   },
   "outputs": [],
   "source": [
    "def selection_func(fit_func,max_alloc,population,stock_ret,wts):\n",
    "#     For each portfolio calculate portfolio returns using fitness_func\n",
    "    portfolio_return = fit_func(max_alloc,population,stock_ret,wts)\n",
    "#     Select top 20% portfolio returns as elite population\n",
    "    selected_portfolio = portfolio_return.sort_values(ascending=False)[0:int(0.2*population.shape[0])]\n",
    "    elite = population.iloc[selected_portfolio.index,:]\n",
    "    return elite"
   ]
  },
  {
   "cell_type": "code",
   "execution_count": 12,
   "metadata": {},
   "outputs": [
    {
     "data": {
      "text/html": [
       "<div>\n",
       "<style>\n",
       "    .dataframe thead tr:only-child th {\n",
       "        text-align: right;\n",
       "    }\n",
       "\n",
       "    .dataframe thead th {\n",
       "        text-align: left;\n",
       "    }\n",
       "\n",
       "    .dataframe tbody tr th {\n",
       "        vertical-align: top;\n",
       "    }\n",
       "</style>\n",
       "<table border=\"1\" class=\"dataframe\">\n",
       "  <thead>\n",
       "    <tr style=\"text-align: right;\">\n",
       "      <th></th>\n",
       "      <th>m&amp;m</th>\n",
       "      <th>hdfc</th>\n",
       "      <th>itc</th>\n",
       "      <th>l&amp;t</th>\n",
       "      <th>sunpha</th>\n",
       "      <th>tcs</th>\n",
       "    </tr>\n",
       "  </thead>\n",
       "  <tbody>\n",
       "    <tr>\n",
       "      <th>60</th>\n",
       "      <td>0.327611</td>\n",
       "      <td>0.561289</td>\n",
       "      <td>0.026403</td>\n",
       "      <td>0.026143</td>\n",
       "      <td>0.003131</td>\n",
       "      <td>0.055423</td>\n",
       "    </tr>\n",
       "    <tr>\n",
       "      <th>238</th>\n",
       "      <td>0.239055</td>\n",
       "      <td>0.433524</td>\n",
       "      <td>0.014267</td>\n",
       "      <td>0.110438</td>\n",
       "      <td>0.080050</td>\n",
       "      <td>0.122666</td>\n",
       "    </tr>\n",
       "    <tr>\n",
       "      <th>38</th>\n",
       "      <td>0.122005</td>\n",
       "      <td>0.463776</td>\n",
       "      <td>0.043591</td>\n",
       "      <td>0.154809</td>\n",
       "      <td>0.039768</td>\n",
       "      <td>0.176051</td>\n",
       "    </tr>\n",
       "    <tr>\n",
       "      <th>363</th>\n",
       "      <td>0.427859</td>\n",
       "      <td>0.247835</td>\n",
       "      <td>0.089624</td>\n",
       "      <td>0.000289</td>\n",
       "      <td>0.045013</td>\n",
       "      <td>0.189380</td>\n",
       "    </tr>\n",
       "    <tr>\n",
       "      <th>499</th>\n",
       "      <td>0.351549</td>\n",
       "      <td>0.360142</td>\n",
       "      <td>0.048879</td>\n",
       "      <td>0.019074</td>\n",
       "      <td>0.152914</td>\n",
       "      <td>0.067442</td>\n",
       "    </tr>\n",
       "  </tbody>\n",
       "</table>\n",
       "</div>"
      ],
      "text/plain": [
       "          m&m      hdfc       itc       l&t    sunpha       tcs\n",
       "60   0.327611  0.561289  0.026403  0.026143  0.003131  0.055423\n",
       "238  0.239055  0.433524  0.014267  0.110438  0.080050  0.122666\n",
       "38   0.122005  0.463776  0.043591  0.154809  0.039768  0.176051\n",
       "363  0.427859  0.247835  0.089624  0.000289  0.045013  0.189380\n",
       "499  0.351549  0.360142  0.048879  0.019074  0.152914  0.067442"
      ]
     },
     "execution_count": 12,
     "metadata": {},
     "output_type": "execute_result"
    }
   ],
   "source": [
    "tmp_pop = selection_func(fitness_func,max_allocation,gen_init_population(number_of_chrom_in_population,len(scrip_names)),\n",
    "                         stck_returns,weights)\n",
    "tmp_pop.head()"
   ]
  },
  {
   "cell_type": "markdown",
   "metadata": {},
   "source": [
    "##### Define evolution function\n",
    "Arithmetic crossover and scramble mutation has been used - you are free to use any other crossover methods like\n",
    "one-point crossover, multi-point crossover or uniform crossover, and mutation methods like swap mutation and inversion\n",
    "mutation"
   ]
  },
  {
   "cell_type": "code",
   "execution_count": 13,
   "metadata": {
    "collapsed": true
   },
   "outputs": [],
   "source": [
    "def evolution_func(elite_pop,mut_prob,scrip,num_of_chrom_in_pop):\n",
    "    new_pop = pd.DataFrame(columns=scrip)\n",
    "    new_pop_iter = 0\n",
    "    while(new_pop_iter <= num_of_chrom_in_pop):\n",
    "#         We would generate a random number and if the number is less than mutation probability, we will go for crossover\n",
    "#         Initially, we will have high value of mutation probability to avoid being getting stuck at local minima and\n",
    "#         explore the search space\n",
    "        if np.random.random() < mut_prob:\n",
    "#             The candidate (or one of the elite portfolios) is chosen randomly for mutation\n",
    "            candidate = np.random.randint(low=0,high=elite_pop.shape[0],size=1)\n",
    "            mutant = elite_pop.iloc[candidate,:].copy()\n",
    "#             Mutation step - shuffle() randomly shuffles the allocation values for each scrip in a portfolio\n",
    "            np.random.shuffle(mutant)\n",
    "#             print(mutant)\n",
    "            new_pop = new_pop.append(mutant,ignore_index=True)\n",
    "#             We prefer to explore much more in the beginning of the search process to ensure diversity and avoid local \n",
    "#             optimum. As we progress towards the end of search process ( or iterations), we need to ensure the\n",
    "#             convergence of the population to a good solution if not the best. Hence we keep on reducing mutation \n",
    "#             probability with each iteraation\n",
    "            mut_prob = mut_prob/(new_pop_iter+1)\n",
    "        else:\n",
    "#             The parents (elite portfolios) for crossover are chosen randomly\n",
    "            parent_indices = np.random.randint(low=0,high=elite_pop.shape[0],size=2)\n",
    "            parents = elite_pop.iloc[parent_indices,:]\n",
    "#             The proportion of characteristic that should be captured in child from each parent is determined by a \n",
    "#             randomly generated number - alpha\n",
    "            alpha = np.random.random()\n",
    "            child1 = alpha*(parents.iloc[0,:]) + (1-alpha)*(parents.iloc[1,:])\n",
    "            child2 = (1-alpha)*(parents.iloc[0,:]) + alpha*(parents.iloc[1,:])\n",
    "#             print(child1)\n",
    "#             print(child2)\n",
    "#             print(dict(child1))\n",
    "#             print(dict(child2))\n",
    "            new_pop = new_pop.append(dict(child1),ignore_index=True)\n",
    "            new_pop = new_pop.append(dict(child2),ignore_index=True)\n",
    "        new_pop_iter+=1\n",
    "#     To create a new population, we include both new population and elite population as there may be a case that we are \n",
    "#     already at a global optimum solution\n",
    "    new_pop = pd.concat([new_pop,elite_pop],ignore_index=True)\n",
    "    return new_pop"
   ]
  },
  {
   "cell_type": "code",
   "execution_count": 14,
   "metadata": {},
   "outputs": [
    {
     "data": {
      "text/html": [
       "<div>\n",
       "<style>\n",
       "    .dataframe thead tr:only-child th {\n",
       "        text-align: right;\n",
       "    }\n",
       "\n",
       "    .dataframe thead th {\n",
       "        text-align: left;\n",
       "    }\n",
       "\n",
       "    .dataframe tbody tr th {\n",
       "        vertical-align: top;\n",
       "    }\n",
       "</style>\n",
       "<table border=\"1\" class=\"dataframe\">\n",
       "  <thead>\n",
       "    <tr style=\"text-align: right;\">\n",
       "      <th></th>\n",
       "      <th>m&amp;m</th>\n",
       "      <th>hdfc</th>\n",
       "      <th>itc</th>\n",
       "      <th>l&amp;t</th>\n",
       "      <th>sunpha</th>\n",
       "      <th>tcs</th>\n",
       "    </tr>\n",
       "  </thead>\n",
       "  <tbody>\n",
       "    <tr>\n",
       "      <th>0</th>\n",
       "      <td>0.291845</td>\n",
       "      <td>0.175800</td>\n",
       "      <td>0.125849</td>\n",
       "      <td>0.205370</td>\n",
       "      <td>0.025693</td>\n",
       "      <td>0.175442</td>\n",
       "    </tr>\n",
       "    <tr>\n",
       "      <th>1</th>\n",
       "      <td>0.283485</td>\n",
       "      <td>0.185448</td>\n",
       "      <td>0.128224</td>\n",
       "      <td>0.209100</td>\n",
       "      <td>0.024983</td>\n",
       "      <td>0.168760</td>\n",
       "    </tr>\n",
       "    <tr>\n",
       "      <th>2</th>\n",
       "      <td>0.082284</td>\n",
       "      <td>0.298437</td>\n",
       "      <td>0.066735</td>\n",
       "      <td>0.134588</td>\n",
       "      <td>0.073303</td>\n",
       "      <td>0.344652</td>\n",
       "    </tr>\n",
       "    <tr>\n",
       "      <th>3</th>\n",
       "      <td>0.073791</td>\n",
       "      <td>0.303039</td>\n",
       "      <td>0.058038</td>\n",
       "      <td>0.155176</td>\n",
       "      <td>0.076512</td>\n",
       "      <td>0.333444</td>\n",
       "    </tr>\n",
       "    <tr>\n",
       "      <th>4</th>\n",
       "      <td>0.243137</td>\n",
       "      <td>0.202101</td>\n",
       "      <td>0.055576</td>\n",
       "      <td>0.135093</td>\n",
       "      <td>0.096172</td>\n",
       "      <td>0.267920</td>\n",
       "    </tr>\n",
       "  </tbody>\n",
       "</table>\n",
       "</div>"
      ],
      "text/plain": [
       "        m&m      hdfc       itc       l&t    sunpha       tcs\n",
       "0  0.291845  0.175800  0.125849  0.205370  0.025693  0.175442\n",
       "1  0.283485  0.185448  0.128224  0.209100  0.024983  0.168760\n",
       "2  0.082284  0.298437  0.066735  0.134588  0.073303  0.344652\n",
       "3  0.073791  0.303039  0.058038  0.155176  0.076512  0.333444\n",
       "4  0.243137  0.202101  0.055576  0.135093  0.096172  0.267920"
      ]
     },
     "execution_count": 14,
     "metadata": {},
     "output_type": "execute_result"
    }
   ],
   "source": [
    "evolution_func(tmp_pop,mutation_probability,scrip_names,number_of_chrom_in_population).head()"
   ]
  },
  {
   "cell_type": "markdown",
   "metadata": {},
   "source": [
    "##### Define main function"
   ]
  },
  {
   "cell_type": "code",
   "execution_count": 15,
   "metadata": {
    "collapsed": true
   },
   "outputs": [],
   "source": [
    "def main_func():\n",
    "    initial_population = gen_init_population(number_of_chrom_in_population,len(scrip_names))\n",
    "#         initial_population.head()\n",
    "    elite_population = selection_func(fitness_func,max_allocation,initial_population,stck_returns,weights)\n",
    "    elite_population.reset_index(inplace=True,drop=True)\n",
    "#         elite_population.head()\n",
    "    new_population = evolution_func(elite_population,mutation_probability,scrip_names,number_of_chrom_in_population)\n",
    "#     We run genetic algorithm for number_of_iterations times\n",
    "    for i in range(number_of_iterations):\n",
    "        new_elite_population = selection_func(fitness_func,max_allocation,new_population,stck_returns,weights)\n",
    "        new_population = evolution_func(new_elite_population,mutation_probability,scrip_names,number_of_chrom_in_population)\n",
    "    return new_population"
   ]
  },
  {
   "cell_type": "markdown",
   "metadata": {},
   "source": [
    "##### Call main function"
   ]
  },
  {
   "cell_type": "code",
   "execution_count": 16,
   "metadata": {
    "collapsed": true
   },
   "outputs": [],
   "source": [
    "range_of_portfolios = main_func() #Final population"
   ]
  },
  {
   "cell_type": "markdown",
   "metadata": {},
   "source": [
    "##### Select the topmost portfolio"
   ]
  },
  {
   "cell_type": "code",
   "execution_count": 17,
   "metadata": {},
   "outputs": [
    {
     "data": {
      "text/plain": [
       "m&m       0.299187\n",
       "hdfc      0.370203\n",
       "itc       0.031188\n",
       "l&t       0.084658\n",
       "sunpha    0.030594\n",
       "tcs       0.184171\n",
       "Name: 1247, dtype: float64"
      ]
     },
     "execution_count": 17,
     "metadata": {},
     "output_type": "execute_result"
    }
   ],
   "source": [
    "top_portfolios = selection_func(fitness_func,max_allocation,range_of_portfolios,stck_returns,weights)\n",
    "final_portfolio = top_portfolios.iloc[0]\n",
    "final_portfolio"
   ]
  },
  {
   "cell_type": "markdown",
   "metadata": {},
   "source": [
    "##### Calculate portfolio returns"
   ]
  },
  {
   "cell_type": "code",
   "execution_count": 18,
   "metadata": {},
   "outputs": [
    {
     "data": {
      "text/plain": [
       "hdfc      0.390110\n",
       "itc       0.038104\n",
       "l&t       0.108842\n",
       "m&m       0.294570\n",
       "sunpha   -0.041454\n",
       "tcs       0.160470\n",
       "dtype: float64"
      ]
     },
     "execution_count": 18,
     "metadata": {},
     "output_type": "execute_result"
    }
   ],
   "source": [
    "weighted_stck_returns = stck_returns.apply(lambda x:(x*weights).sum())\n",
    "weighted_stck_returns"
   ]
  },
  {
   "cell_type": "code",
   "execution_count": 19,
   "metadata": {},
   "outputs": [
    {
     "name": "stdout",
     "output_type": "stream",
     "text": [
      "The portfolio return is: 0.271\n"
     ]
    }
   ],
   "source": [
    "portfolio_return = sum((final_portfolio*max_allocation)*weighted_stck_returns)/max_allocation\n",
    "# In the past three years, Nifty 50 has given a return of 27.4%. Using only one stock from each sector \n",
    "# (all of them are top players by market capitalization, except m&m), we got a portfolio return of 27.1%. \n",
    "# That too excluding any expense ratio that you would have incurred for nifty 50 indexed fund (roughly it is around 0.5%).\n",
    "# If you do some research, you are beating some mutual funds in this category as well!!\n",
    "print('The portfolio return is: {0:.3f}'.format(portfolio_return))"
   ]
  }
 ],
 "metadata": {
  "kernelspec": {
   "display_name": "Python 3",
   "language": "python",
   "name": "python3"
  },
  "language_info": {
   "codemirror_mode": {
    "name": "ipython",
    "version": 3
   },
   "file_extension": ".py",
   "mimetype": "text/x-python",
   "name": "python",
   "nbconvert_exporter": "python",
   "pygments_lexer": "ipython3",
   "version": "3.6.3"
  }
 },
 "nbformat": 4,
 "nbformat_minor": 2
}
